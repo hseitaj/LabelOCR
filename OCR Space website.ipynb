{
 "cells": [
  {
   "cell_type": "markdown",
   "id": "d185a921",
   "metadata": {},
   "source": [
    "The issue with the OCR Space website second engine is the limitations that comes with using the free version.\n",
    "\n",
    "We can only use the commands every 600 seconds, and it requires that the image is less then 1000 MB.\n",
    "\n",
    "Code reference: https://github.com/Zaargh/ocr.space_code_example\n",
    "\n",
    "Documentation website: https://ocr.space/OCRAPI#local"
   ]
  },
  {
   "cell_type": "code",
   "execution_count": 1,
   "id": "9cf697c7",
   "metadata": {},
   "outputs": [],
   "source": [
    "import requests\n",
    "\n",
    "\n",
    "def ocr_space_file(filename, overlay=False, api_key='helloworld', language='eng'):\n",
    "    \"\"\" OCR.space API request with local file.\n",
    "        Python3.5 - not tested on 2.7\n",
    "    :param filename: Your file path & name.\n",
    "    :param overlay: Is OCR.space overlay required in your response.\n",
    "                    Defaults to False.\n",
    "    :param api_key: OCR.space API key.\n",
    "                    Defaults to 'helloworld'.\n",
    "    :param language: Language code to be used in OCR.\n",
    "                    List of available language codes can be found on https://ocr.space/OCRAPI\n",
    "                    Defaults to 'en'.\n",
    "    :return: Result in JSON format.\n",
    "    \"\"\"\n",
    "\n",
    "    payload = {'isOverlayRequired': overlay,\n",
    "               'apikey': api_key,\n",
    "               'language': language,\n",
    "               }\n",
    "    with open(filename, 'rb') as f:\n",
    "        r = requests.post('https://api.ocr.space/parse/image',\n",
    "                          files={filename: f},\n",
    "                          data=payload,\n",
    "                          )\n",
    "    return r.content.decode()\n",
    "\n",
    "\n",
    "def ocr_space_url(url, overlay=False, api_key='helloworld', language='eng'):\n",
    "    \"\"\" OCR.space API request with remote file.\n",
    "        Python3.5 - not tested on 2.7\n",
    "    :param url: Image url.\n",
    "    :param overlay: Is OCR.space overlay required in your response.\n",
    "                    Defaults to False.\n",
    "    :param api_key: OCR.space API key.\n",
    "                    Defaults to 'helloworld'.\n",
    "    :param language: Language code to be used in OCR.\n",
    "                    List of available language codes can be found on https://ocr.space/OCRAPI\n",
    "                    Defaults to 'en'.\n",
    "    :return: Result in JSON format.\n",
    "    \"\"\"\n",
    "\n",
    "    payload = {'url': url,\n",
    "               'isOverlayRequired': overlay,\n",
    "               'apikey': api_key,\n",
    "               'language': language,\n",
    "               }\n",
    "    r = requests.post('https://api.ocr.space/parse/image',\n",
    "                      data=payload,\n",
    "                      )\n",
    "    return r.content.decode()\n",
    "\n",
    "\n",
    "# Use examples:\n",
    "target_image = 'C:/Users/hseit/Desktop/SummerMCREU/images/deodorant.jpg'\n",
    "test_file = ocr_space_file(filename=target_image, language='eng')\n",
    "test_url = ocr_space_url(url='http://i.imgur.com/31d5L5y.jpg')"
   ]
  },
  {
   "cell_type": "code",
   "execution_count": 2,
   "id": "1f70709c",
   "metadata": {},
   "outputs": [
    {
     "data": {
      "text/plain": [
       "'{\"ParsedResults\":[{\"TextOverlay\":{\"Lines\":[],\"HasOverlay\":false,\"Message\":\"Text overlay is not provided as it is not requested\"},\"TextOrientation\":\"0\",\"FileParseExitCode\":1,\"ParsedText\":\"ALUMINUM* FREE\\\\r\\\\nOld(Spice\\\\r\\\\nPURE SPORT\\\\r\\\\n------.-...—HIGH ENDURANCE@\\\\r\\\\nDEODORANT\\\\r\\\\n2.4 OZ (68 g)\\\\r\\\\n\",\"ErrorMessage\":\"\",\"ErrorDetails\":\"\"}],\"OCRExitCode\":1,\"IsErroredOnProcessing\":false,\"ProcessingTimeInMilliseconds\":\"2218\",\"SearchablePDFURL\":\"Searchable PDF not generated as it was not requested.\"}'"
      ]
     },
     "execution_count": 2,
     "metadata": {},
     "output_type": "execute_result"
    }
   ],
   "source": [
    "test_file"
   ]
  },
  {
   "cell_type": "code",
   "execution_count": null,
   "id": "7b8b4848",
   "metadata": {},
   "outputs": [],
   "source": []
  }
 ],
 "metadata": {
  "kernelspec": {
   "display_name": "Python 3 (ipykernel)",
   "language": "python",
   "name": "python3"
  },
  "language_info": {
   "codemirror_mode": {
    "name": "ipython",
    "version": 3
   },
   "file_extension": ".py",
   "mimetype": "text/x-python",
   "name": "python",
   "nbconvert_exporter": "python",
   "pygments_lexer": "ipython3",
   "version": "3.10.11"
  }
 },
 "nbformat": 4,
 "nbformat_minor": 5
}
